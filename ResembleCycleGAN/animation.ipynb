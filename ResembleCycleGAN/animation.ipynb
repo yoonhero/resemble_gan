{
 "cells": [
  {
   "cell_type": "code",
   "execution_count": 5,
   "id": "1980bb59-0095-4e80-a9c4-64de89ad3ac3",
   "metadata": {
    "tags": []
   },
   "outputs": [],
   "source": [
    "from PIL import Image\n",
    "from pygifmaker.pygifmaker import GifMaker\n",
    "from glob import glob"
   ]
  },
  {
   "cell_type": "code",
   "execution_count": 6,
   "id": "a59bb351-adae-4c48-9f29-80a69ea6d2c0",
   "metadata": {
    "tags": []
   },
   "outputs": [],
   "source": [
    "gifmaker = GifMaker()"
   ]
  },
  {
   "cell_type": "code",
   "execution_count": 15,
   "id": "90dd95f7-9ea9-4118-a65d-1b869e1a02c0",
   "metadata": {
    "tags": []
   },
   "outputs": [],
   "source": [
    "result_path = \"./saved_images/train_2/*\"\n",
    "\n",
    "images_path = glob(result_path)"
   ]
  },
  {
   "cell_type": "code",
   "execution_count": 21,
   "id": "17bdca5d-bb05-4c44-ae6f-cdc620e5e6d5",
   "metadata": {
    "tags": []
   },
   "outputs": [],
   "source": [
    "human = [i.replace(\"\\\\\", \"/\") for i in images_path if \"human\" in i]\n",
    "animal = [i.replace(\"\\\\\", \"/\") for i in images_path if \"animal\" in i]\n",
    "test = [i.replace(\"\\\\\", \"/\") for i in images_path if \"test\" in i]"
   ]
  },
  {
   "cell_type": "code",
   "execution_count": 24,
   "id": "2e8d483f-66e0-45be-92b8-796303e3e68d",
   "metadata": {
    "tags": []
   },
   "outputs": [],
   "source": [
    "human_images = [Image.open(file).convert(\"RGB\") for file in human]\n",
    "animal_images = [Image.open(file).convert(\"RGB\") for file in animal]\n",
    "test_images = [Image.open(file).convert(\"RGB\") for file in test]"
   ]
  },
  {
   "cell_type": "code",
   "execution_count": 29,
   "id": "49e99665-4870-4209-a438-496cbd8a30c0",
   "metadata": {
    "tags": []
   },
   "outputs": [],
   "source": [
    "GifMaker.Make(\"result.gif\", test, 3, 0)\n",
    "GifMaker.Make(\"human2animal.gif\", human, 3, 0)\n",
    "GifMaker.Make(\"animal2human.gif\", animal, 3, 0)"
   ]
  },
  {
   "cell_type": "code",
   "execution_count": 30,
   "id": "44295ea7-8c7c-4a8b-bd2e-9db1b0ee7b28",
   "metadata": {
    "tags": []
   },
   "outputs": [
    {
     "data": {
      "text/html": [
       "<img src=\"result.gif\"/>"
      ],
      "text/plain": [
       "<IPython.core.display.Image object>"
      ]
     },
     "execution_count": 30,
     "metadata": {},
     "output_type": "execute_result"
    }
   ],
   "source": [
    "from IPython.display import Image\n",
    "Image(url='result.gif')  "
   ]
  },
  {
   "cell_type": "code",
   "execution_count": null,
   "id": "97274a16-7006-4cfb-8826-b7b1fc40d05a",
   "metadata": {},
   "outputs": [],
   "source": []
  }
 ],
 "metadata": {
  "kernelspec": {
   "display_name": "Python 3 (ipykernel)",
   "language": "python",
   "name": "python3"
  },
  "language_info": {
   "codemirror_mode": {
    "name": "ipython",
    "version": 3
   },
   "file_extension": ".py",
   "mimetype": "text/x-python",
   "name": "python",
   "nbconvert_exporter": "python",
   "pygments_lexer": "ipython3",
   "version": "3.9.6"
  }
 },
 "nbformat": 4,
 "nbformat_minor": 5
}
